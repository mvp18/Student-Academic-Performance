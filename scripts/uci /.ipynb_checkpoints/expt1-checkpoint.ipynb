{
 "cells": [
  {
   "cell_type": "code",
   "execution_count": 1,
   "metadata": {},
   "outputs": [
    {
     "name": "stderr",
     "output_type": "stream",
     "text": [
      "/home/mvp18/anaconda3/lib/python3.6/site-packages/sklearn/ensemble/weight_boosting.py:29: DeprecationWarning: numpy.core.umath_tests is an internal NumPy module and should not be imported. It will be removed in a future NumPy release.\n",
      "  from numpy.core.umath_tests import inner1d\n"
     ]
    }
   ],
   "source": [
    "import numpy as np\n",
    "import pandas as pd\n",
    "from sklearn.model_selection import train_test_split\n",
    "from sklearn.preprocessing import StandardScaler\n",
    "from sklearn.linear_model import LinearRegression\n",
    "from sklearn.ensemble import RandomForestRegressor\n",
    "from sklearn.neighbors import KNeighborsRegressor\n",
    "from sklearn.tree import DecisionTreeRegressor\n",
    "from sklearn.ensemble import AdaBoostRegressor\n",
    "from sklearn.multioutput import MultiOutputRegressor\n",
    "from sklearn import svm\n",
    "import matplotlib.pyplot as plt"
   ]
  },
  {
   "cell_type": "code",
   "execution_count": 2,
   "metadata": {},
   "outputs": [],
   "source": [
    "dataset = pd.read_csv('student-mat.csv', sep=';')"
   ]
  },
  {
   "cell_type": "code",
   "execution_count": 3,
   "metadata": {},
   "outputs": [
    {
     "data": {
      "text/plain": [
       "(395, 30)"
      ]
     },
     "execution_count": 3,
     "metadata": {},
     "output_type": "execute_result"
    }
   ],
   "source": [
    "imp_features = dataset.drop(['school', 'sex', 'reason'], axis=1)\n",
    "imp_features.shape"
   ]
  },
  {
   "cell_type": "code",
   "execution_count": 4,
   "metadata": {},
   "outputs": [
    {
     "data": {
      "text/html": [
       "<div>\n",
       "<style scoped>\n",
       "    .dataframe tbody tr th:only-of-type {\n",
       "        vertical-align: middle;\n",
       "    }\n",
       "\n",
       "    .dataframe tbody tr th {\n",
       "        vertical-align: top;\n",
       "    }\n",
       "\n",
       "    .dataframe thead th {\n",
       "        text-align: right;\n",
       "    }\n",
       "</style>\n",
       "<table border=\"1\" class=\"dataframe\">\n",
       "  <thead>\n",
       "    <tr style=\"text-align: right;\">\n",
       "      <th></th>\n",
       "      <th>age</th>\n",
       "      <th>address</th>\n",
       "      <th>famsize</th>\n",
       "      <th>Pstatus</th>\n",
       "      <th>Medu</th>\n",
       "      <th>Fedu</th>\n",
       "      <th>Mjob</th>\n",
       "      <th>Fjob</th>\n",
       "      <th>guardian</th>\n",
       "      <th>traveltime</th>\n",
       "      <th>...</th>\n",
       "      <th>famrel</th>\n",
       "      <th>freetime</th>\n",
       "      <th>goout</th>\n",
       "      <th>Dalc</th>\n",
       "      <th>Walc</th>\n",
       "      <th>health</th>\n",
       "      <th>absences</th>\n",
       "      <th>G1</th>\n",
       "      <th>G2</th>\n",
       "      <th>G3</th>\n",
       "    </tr>\n",
       "  </thead>\n",
       "  <tbody>\n",
       "    <tr>\n",
       "      <th>0</th>\n",
       "      <td>18</td>\n",
       "      <td>U</td>\n",
       "      <td>GT3</td>\n",
       "      <td>A</td>\n",
       "      <td>4</td>\n",
       "      <td>4</td>\n",
       "      <td>at_home</td>\n",
       "      <td>teacher</td>\n",
       "      <td>mother</td>\n",
       "      <td>2</td>\n",
       "      <td>...</td>\n",
       "      <td>4</td>\n",
       "      <td>3</td>\n",
       "      <td>4</td>\n",
       "      <td>1</td>\n",
       "      <td>1</td>\n",
       "      <td>3</td>\n",
       "      <td>6</td>\n",
       "      <td>5</td>\n",
       "      <td>6</td>\n",
       "      <td>6</td>\n",
       "    </tr>\n",
       "    <tr>\n",
       "      <th>1</th>\n",
       "      <td>17</td>\n",
       "      <td>U</td>\n",
       "      <td>GT3</td>\n",
       "      <td>T</td>\n",
       "      <td>1</td>\n",
       "      <td>1</td>\n",
       "      <td>at_home</td>\n",
       "      <td>other</td>\n",
       "      <td>father</td>\n",
       "      <td>1</td>\n",
       "      <td>...</td>\n",
       "      <td>5</td>\n",
       "      <td>3</td>\n",
       "      <td>3</td>\n",
       "      <td>1</td>\n",
       "      <td>1</td>\n",
       "      <td>3</td>\n",
       "      <td>4</td>\n",
       "      <td>5</td>\n",
       "      <td>5</td>\n",
       "      <td>6</td>\n",
       "    </tr>\n",
       "    <tr>\n",
       "      <th>2</th>\n",
       "      <td>15</td>\n",
       "      <td>U</td>\n",
       "      <td>LE3</td>\n",
       "      <td>T</td>\n",
       "      <td>1</td>\n",
       "      <td>1</td>\n",
       "      <td>at_home</td>\n",
       "      <td>other</td>\n",
       "      <td>mother</td>\n",
       "      <td>1</td>\n",
       "      <td>...</td>\n",
       "      <td>4</td>\n",
       "      <td>3</td>\n",
       "      <td>2</td>\n",
       "      <td>2</td>\n",
       "      <td>3</td>\n",
       "      <td>3</td>\n",
       "      <td>10</td>\n",
       "      <td>7</td>\n",
       "      <td>8</td>\n",
       "      <td>10</td>\n",
       "    </tr>\n",
       "    <tr>\n",
       "      <th>3</th>\n",
       "      <td>15</td>\n",
       "      <td>U</td>\n",
       "      <td>GT3</td>\n",
       "      <td>T</td>\n",
       "      <td>4</td>\n",
       "      <td>2</td>\n",
       "      <td>health</td>\n",
       "      <td>services</td>\n",
       "      <td>mother</td>\n",
       "      <td>1</td>\n",
       "      <td>...</td>\n",
       "      <td>3</td>\n",
       "      <td>2</td>\n",
       "      <td>2</td>\n",
       "      <td>1</td>\n",
       "      <td>1</td>\n",
       "      <td>5</td>\n",
       "      <td>2</td>\n",
       "      <td>15</td>\n",
       "      <td>14</td>\n",
       "      <td>15</td>\n",
       "    </tr>\n",
       "    <tr>\n",
       "      <th>4</th>\n",
       "      <td>16</td>\n",
       "      <td>U</td>\n",
       "      <td>GT3</td>\n",
       "      <td>T</td>\n",
       "      <td>3</td>\n",
       "      <td>3</td>\n",
       "      <td>other</td>\n",
       "      <td>other</td>\n",
       "      <td>father</td>\n",
       "      <td>1</td>\n",
       "      <td>...</td>\n",
       "      <td>4</td>\n",
       "      <td>3</td>\n",
       "      <td>2</td>\n",
       "      <td>1</td>\n",
       "      <td>2</td>\n",
       "      <td>5</td>\n",
       "      <td>4</td>\n",
       "      <td>6</td>\n",
       "      <td>10</td>\n",
       "      <td>10</td>\n",
       "    </tr>\n",
       "  </tbody>\n",
       "</table>\n",
       "<p>5 rows × 30 columns</p>\n",
       "</div>"
      ],
      "text/plain": [
       "   age address famsize Pstatus  Medu  Fedu     Mjob      Fjob guardian  \\\n",
       "0   18       U     GT3       A     4     4  at_home   teacher   mother   \n",
       "1   17       U     GT3       T     1     1  at_home     other   father   \n",
       "2   15       U     LE3       T     1     1  at_home     other   mother   \n",
       "3   15       U     GT3       T     4     2   health  services   mother   \n",
       "4   16       U     GT3       T     3     3    other     other   father   \n",
       "\n",
       "   traveltime ...  famrel  freetime goout Dalc Walc health absences  G1  G2  \\\n",
       "0           2 ...       4         3     4    1    1      3        6   5   6   \n",
       "1           1 ...       5         3     3    1    1      3        4   5   5   \n",
       "2           1 ...       4         3     2    2    3      3       10   7   8   \n",
       "3           1 ...       3         2     2    1    1      5        2  15  14   \n",
       "4           1 ...       4         3     2    1    2      5        4   6  10   \n",
       "\n",
       "   G3  \n",
       "0   6  \n",
       "1   6  \n",
       "2  10  \n",
       "3  15  \n",
       "4  10  \n",
       "\n",
       "[5 rows x 30 columns]"
      ]
     },
     "execution_count": 4,
     "metadata": {},
     "output_type": "execute_result"
    }
   ],
   "source": [
    "imp_features.head()"
   ]
  },
  {
   "cell_type": "code",
   "execution_count": 5,
   "metadata": {},
   "outputs": [],
   "source": [
    "address_mapping = {\"U\":0, \"R\":1}\n",
    "famsize_mapping = {\"LE3\":0,\"GT3\":1}\n",
    "Pstatus_mapping = {\"T\":0,\"A\":1}\n",
    "Mjob_mapping = {\"teacher\":0,\"health\":1,\"services\":3,\"at_home\":4,\"other\":5}\n",
    "Fjob_mapping = {\"teacher\":0,\"health\":1,\"services\":3,\"at_home\":4,\"other\":5}\n",
    "schoolsup_mapping = {\"yes\":0,\"no\":1}\n",
    "famsup_mapping = {\"yes\":0,\"no\":1}\n",
    "paid_mapping = {\"yes\":0,\"no\":1}\n",
    "activities_mapping = {\"yes\":0,\"no\":1}\n",
    "nursery_mapping = {\"yes\":0,\"no\":1}\n",
    "higher_mapping = {\"yes\":0,\"no\":1}\n",
    "internet_mapping = {\"yes\":0,\"no\":1}\n",
    "romantic_mapping = {\"yes\":0,\"no\":1}\n",
    "guardian_mapping = {\"mother\":0,\"father\":1,\"other\":2}"
   ]
  },
  {
   "cell_type": "code",
   "execution_count": 6,
   "metadata": {},
   "outputs": [],
   "source": [
    "numeric_features = imp_features\n",
    "numeric_features['address'] = imp_features['address'].map(address_mapping)\n",
    "numeric_features['famsize'] = imp_features['famsize'].map(famsize_mapping)\n",
    "numeric_features['Pstatus'] = imp_features['Pstatus'].map(Pstatus_mapping)\n",
    "numeric_features['Mjob'] = imp_features['Mjob'].map(Mjob_mapping)\n",
    "numeric_features['Fjob'] = imp_features['Fjob'].map(Fjob_mapping)\n",
    "numeric_features['schoolsup'] = imp_features['schoolsup'].map(schoolsup_mapping)\n",
    "numeric_features['famsup'] = imp_features['famsup'].map(famsup_mapping)\n",
    "numeric_features['paid'] = imp_features['paid'].map(paid_mapping)\n",
    "numeric_features['activities'] = imp_features['activities'].map(activities_mapping)\n",
    "numeric_features['nursery'] = imp_features['nursery'].map(nursery_mapping)\n",
    "numeric_features['higher'] = imp_features['higher'].map(higher_mapping)\n",
    "numeric_features['internet'] = imp_features['internet'].map(internet_mapping)\n",
    "numeric_features['romantic'] = imp_features['romantic'].map(romantic_mapping)\n",
    "numeric_features['guardian'] = imp_features['guardian'].map(guardian_mapping)"
   ]
  },
  {
   "cell_type": "code",
   "execution_count": 7,
   "metadata": {},
   "outputs": [],
   "source": [
    "data_np_array = numeric_features.values"
   ]
  },
  {
   "cell_type": "code",
   "execution_count": null,
   "metadata": {},
   "outputs": [],
   "source": [
    "numeric_features"
   ]
  },
  {
   "cell_type": "code",
   "execution_count": 18,
   "metadata": {},
   "outputs": [
    {
     "data": {
      "image/png": "[encoded data removed]",
      "text/plain": [
       "<Figure size 432x288 with 1 Axes>"
      ]
     },
     "metadata": {},
     "output_type": "display_data"
    }
   ],
   "source": [
    "plt.plot(data_np_array[:,-1])\n",
    "plt.show()"
   ]
  },
  {
   "cell_type": "code",
   "execution_count": 9,
   "metadata": {},
   "outputs": [
    {
     "name": "stdout",
     "output_type": "stream",
     "text": [
      "(395, 27)\n",
      "(395, 3)\n"
     ]
    }
   ],
   "source": [
    "X = data_np_array[:,:-3]\n",
    "Y = data_np_array[:,-3:]\n",
    "Y/=np.max(Y)\n",
    "print(X.shape)\n",
    "print(Y.shape)"
   ]
  },
  {
   "cell_type": "code",
   "execution_count": 23,
   "metadata": {},
   "outputs": [
    {
     "data": {
      "text/plain": [
       "array([17,  0,  1,  0,  1,  1,  4,  5,  1,  1,  2,  0,  1,  0,  1,  1,  1,\n",
       "        0,  0,  1,  5,  3,  3,  1,  1,  3,  4])"
      ]
     },
     "execution_count": 23,
     "metadata": {},
     "output_type": "execute_result"
    }
   ],
   "source": [
    "X[1]"
   ]
  },
  {
   "cell_type": "code",
   "execution_count": 10,
   "metadata": {},
   "outputs": [],
   "source": [
    "X_train, X_test, Y_train, Y_test = train_test_split(X, Y, test_size=0.2, random_state=42)"
   ]
  },
  {
   "cell_type": "code",
   "execution_count": 11,
   "metadata": {},
   "outputs": [
    {
     "data": {
      "text/plain": [
       "13.920311330738228"
      ]
     },
     "execution_count": 11,
     "metadata": {},
     "output_type": "execute_result"
    }
   ],
   "source": [
    "linear_svc = LinearRegression()\n",
    "linear_svc.fit(X_train, Y_train)\n",
    "R2_score = linear_svc.score(X_test, Y_test)*100\n",
    "R2_score"
   ]
  },
  {
   "cell_type": "code",
   "execution_count": 12,
   "metadata": {},
   "outputs": [
    {
     "data": {
      "text/plain": [
       "19.341622731286286"
      ]
     },
     "execution_count": 12,
     "metadata": {},
     "output_type": "execute_result"
    }
   ],
   "source": [
    "rng = np.random.RandomState(1)\n",
    "ada_dt = MultiOutputRegressor(AdaBoostRegressor(DecisionTreeRegressor(max_depth=5), n_estimators=300, random_state=rng))\n",
    "ada_dt.fit(X_train, Y_train)\n",
    "R2_score = ada_dt.score(X_test, Y_test)*100\n",
    "R2_score"
   ]
  },
  {
   "cell_type": "code",
   "execution_count": 13,
   "metadata": {},
   "outputs": [
    {
     "name": "stdout",
     "output_type": "stream",
     "text": [
      "13.331133555798838 14.268730939494665\n"
     ]
    }
   ],
   "source": [
    "svr_rbf = MultiOutputRegressor(svm.SVR(kernel='rbf'))\n",
    "svr_lin = MultiOutputRegressor(svm.SVR(kernel='linear'))\n",
    "svr_rbf.fit(X_train, Y_train)\n",
    "svr_lin.fit(X_train, Y_train)\n",
    "R2_1 = svr_rbf.score(X_test, Y_test)*100\n",
    "R2_2 = svr_lin.score(X_test, Y_test)*100\n",
    "print(R2_1, R2_2)"
   ]
  },
  {
   "cell_type": "code",
   "execution_count": 14,
   "metadata": {},
   "outputs": [
    {
     "data": {
      "text/plain": [
       "5.7275563116609165"
      ]
     },
     "execution_count": 14,
     "metadata": {},
     "output_type": "execute_result"
    }
   ],
   "source": [
    "knn = KNeighborsRegressor()\n",
    "knn_multi = MultiOutputRegressor(knn)\n",
    "knn_multi.fit(X_train, Y_train)\n",
    "R2_score = knn_multi.score(X_test, Y_test)*100\n",
    "R2_score"
   ]
  },
  {
   "cell_type": "code",
   "execution_count": 15,
   "metadata": {},
   "outputs": [
    {
     "name": "stdout",
     "output_type": "stream",
     "text": [
      "16.435606226372787 1.287193693269735 -19.68759071834641\n"
     ]
    }
   ],
   "source": [
    "regr_1 = DecisionTreeRegressor(max_depth=2)\n",
    "regr_2 = DecisionTreeRegressor(max_depth=5)\n",
    "regr_3 = DecisionTreeRegressor(max_depth=8)\n",
    "regr_1.fit(X_train, Y_train)\n",
    "regr_2.fit(X_train, Y_train)\n",
    "regr_3.fit(X_train, Y_train)\n",
    "R2_1 = regr_1.score(X_test, Y_test)*100\n",
    "R2_2 = regr_2.score(X_test, Y_test)*100\n",
    "R2_3 = regr_3.score(X_test, Y_test)*100\n",
    "print(R2_1, R2_2, R2_3)"
   ]
  },
  {
   "cell_type": "code",
   "execution_count": 16,
   "metadata": {},
   "outputs": [
    {
     "data": {
      "text/plain": [
       "23.853267255739016"
      ]
     },
     "execution_count": 16,
     "metadata": {},
     "output_type": "execute_result"
    }
   ],
   "source": [
    "random_forest = RandomForestRegressor(n_estimators=300)\n",
    "random_forest.fit(X_train, Y_train)\n",
    "R2_score = random_forest.score(X_test, Y_test)*100\n",
    "R2_score"
   ]
  },
  {
   "cell_type": "code",
   "execution_count": 17,
   "metadata": {},
   "outputs": [
    {
     "data": {
      "text/plain": [
       "7.665520297928848"
      ]
     },
     "execution_count": 17,
     "metadata": {},
     "output_type": "execute_result"
    }
   ],
   "source": [
    "from sklearn.neural_network import MLPRegressor\n",
    "clf = MLPRegressor(max_iter=1000)\n",
    "clf.fit(X_train, Y_train)\n",
    "R2_score = clf.score(X_test, Y_test)*100\n",
    "R2_score"
   ]
  },
  {
   "cell_type": "code",
   "execution_count": null,
   "metadata": {},
   "outputs": [],
   "source": []
  }
 ],
 "metadata": {
  "kernelspec": {
   "display_name": "Python 3",
   "language": "python",
   "name": "python3"
  },
  "language_info": {
   "codemirror_mode": {
    "name": "ipython",
    "version": 3
   },
   "file_extension": ".py",
   "mimetype": "text/x-python",
   "name": "python",
   "nbconvert_exporter": "python",
   "pygments_lexer": "ipython3",
   "version": "3.6.8"
  }
 },
 "nbformat": 4,
 "nbformat_minor": 2
}
