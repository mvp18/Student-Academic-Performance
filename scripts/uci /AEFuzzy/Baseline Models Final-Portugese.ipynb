{
 "cells": [
  {
   "cell_type": "code",
   "execution_count": 14,
   "metadata": {},
   "outputs": [],
   "source": [
    "import numpy as np\n",
    "import pandas as pd\n",
    "from sklearn.model_selection import train_test_split\n",
    "from sklearn.metrics import mean_absolute_error\n",
    "\n",
    "seed = 42\n",
    "np.random.seed(seed)\n",
    "\n",
    "dataset = pd.read_csv('../data/student-por.csv', sep=';')\n",
    "imp_features = dataset.drop(['school', 'sex', 'reason'], axis=1)\n",
    "\n",
    "address_mapping = {\"U\":0.5, \"R\":1}\n",
    "famsize_mapping = {\"LE3\":0.5,\"GT3\":1}\n",
    "Pstatus_mapping = {\"T\":0.5,\"A\":1}\n",
    "Mjob_mapping = {\"teacher\":0.2,\"health\":0.4,\"services\":0.6,\"at_home\":0.8,\"other\":1.0}\n",
    "Fjob_mapping = {\"teacher\":0.2,\"health\":0.4,\"services\":0.6,\"at_home\":0.8,\"other\":1.0}\n",
    "schoolsup_mapping = {\"yes\":0.5,\"no\":1}\n",
    "famsup_mapping = {\"yes\":0.5,\"no\":1}\n",
    "paid_mapping = {\"yes\":0.5,\"no\":1}\n",
    "activities_mapping = {\"yes\":0.5,\"no\":1}\n",
    "nursery_mapping = {\"yes\":0.5,\"no\":1}\n",
    "higher_mapping = {\"yes\":0.5,\"no\":1}\n",
    "internet_mapping = {\"yes\":0.5,\"no\":1}\n",
    "romantic_mapping = {\"yes\":0.5,\"no\":1}\n",
    "\n",
    "guardian_mapping = {\"mother\":0.33,\"father\":0.66,\"other\":1}\n",
    "numeric_features = imp_features\n",
    "numeric_features['address'] = imp_features['address'].map(address_mapping)\n",
    "numeric_features['famsize'] = imp_features['famsize'].map(famsize_mapping)\n",
    "numeric_features['Pstatus'] = imp_features['Pstatus'].map(Pstatus_mapping)\n",
    "numeric_features['Mjob'] = imp_features['Mjob'].map(Mjob_mapping)\n",
    "numeric_features['Fjob'] = imp_features['Fjob'].map(Fjob_mapping)\n",
    "numeric_features['schoolsup'] = imp_features['schoolsup'].map(schoolsup_mapping)\n",
    "numeric_features['famsup'] = imp_features['famsup'].map(famsup_mapping)\n",
    "numeric_features['paid'] = imp_features['paid'].map(paid_mapping)\n",
    "numeric_features['activities'] = imp_features['activities'].map(activities_mapping)\n",
    "numeric_features['nursery'] = imp_features['nursery'].map(nursery_mapping)\n",
    "numeric_features['higher'] = imp_features['higher'].map(higher_mapping)\n",
    "numeric_features['internet'] = imp_features['internet'].map(internet_mapping)\n",
    "numeric_features['romantic'] = imp_features['romantic'].map(romantic_mapping)\n",
    "numeric_features['guardian'] = imp_features['guardian'].map(guardian_mapping)\n",
    "\n",
    "data_np_array = numeric_features.values\n",
    "\n",
    "X = data_np_array[:, :-1]\n",
    "Y = data_np_array[:,-1]\n",
    "\n",
    "X_trval, X_test, y_trval, Y_test = train_test_split(X, Y, test_size=0.1, random_state=seed)\n",
    "X_train, X_val, Y_train, y_val = train_test_split(X_trval, y_trval, test_size=0.11, random_state=seed)\n",
    "\n",
    "# X_train, X_test, Y_train, Y_test = train_test_split(X, Y, test_size=0.2, random_state=42)"
   ]
  },
  {
   "cell_type": "code",
   "execution_count": 15,
   "metadata": {},
   "outputs": [
    {
     "name": "stdout",
     "output_type": "stream",
     "text": [
      "86.52094011118521\n",
      "0.8185852870884354\n"
     ]
    },
    {
     "name": "stderr",
     "output_type": "stream",
     "text": [
      "/home/mvp18/anaconda3/envs/torch/lib/python3.7/site-packages/sklearn/svm/base.py:193: FutureWarning: The default value of gamma will change from 'auto' to 'scale' in version 0.22 to account better for unscaled features. Set gamma explicitly to 'auto' or 'scale' to avoid this warning.\n",
      "  \"avoid this warning.\", FutureWarning)\n"
     ]
    }
   ],
   "source": [
    "#SVR\n",
    "from sklearn import svm\n",
    "clf = svm.SVR()\n",
    "clf.fit(X_train, Y_train)\n",
    "pred=clf.predict(X_test)\n",
    "print(clf.score(X_test,Y_test)*100)\n",
    "print(mean_absolute_error(Y_test, pred))"
   ]
  },
  {
   "cell_type": "markdown",
   "metadata": {},
   "source": [
    "from sklearn import linear_model\n",
    "clf = linear_model.SGDRegressor(max_iter=1000, tol=1e-3)\n",
    "clf.fit(X_train, Y_train)\n",
    "print(clf.score(X_test,Y_test)*100)"
   ]
  },
  {
   "cell_type": "code",
   "execution_count": 16,
   "metadata": {},
   "outputs": [
    {
     "name": "stdout",
     "output_type": "stream",
     "text": [
      "86.28636845926174\n",
      "0.8338461538461538\n"
     ]
    }
   ],
   "source": [
    "from sklearn.neighbors import KNeighborsRegressor\n",
    "clf = KNeighborsRegressor(n_neighbors=5)\n",
    "clf.fit(X_train, Y_train)\n",
    "pred=clf.predict(X_test)\n",
    "print(clf.score(X_test,Y_test)*100)\n",
    "print(mean_absolute_error(Y_test, pred))"
   ]
  },
  {
   "cell_type": "code",
   "execution_count": 17,
   "metadata": {},
   "outputs": [
    {
     "name": "stdout",
     "output_type": "stream",
     "text": [
      "84.11430984112113\n",
      "0.9754425457727259\n",
      "89.08625814552649\n",
      "0.761383885329988\n",
      "91.21968979130169\n",
      "0.6743210504310985\n"
     ]
    }
   ],
   "source": [
    "from sklearn.gaussian_process import GaussianProcessRegressor\n",
    "from sklearn.gaussian_process.kernels import (RBF, Matern, DotProduct, WhiteKernel)\n",
    "\n",
    "\n",
    "kernels = [1.0 * RBF(length_scale=1.0, length_scale_bounds=(1e-1, 10.0)), 1.0 * Matern(length_scale=1.0, length_scale_bounds=(1e-1, 10.0), nu=1.5),\n",
    "DotProduct() + WhiteKernel()]\n",
    "for kernel in kernels:\n",
    "    gpr = GaussianProcessRegressor(kernel=kernel, random_state=seed).fit(X_train, Y_train)\n",
    "    gpr.fit(X_train, Y_train)\n",
    "    pred=gpr.predict(X_test)\n",
    "    print(gpr.score(X_test,Y_test)*100)\n",
    "    print(mean_absolute_error(Y_test, pred))"
   ]
  },
  {
   "cell_type": "code",
   "execution_count": 18,
   "metadata": {},
   "outputs": [
    {
     "name": "stdout",
     "output_type": "stream",
     "text": [
      "90.98504774669124\n",
      "0.6818461538461538\n"
     ]
    }
   ],
   "source": [
    "from sklearn.ensemble import RandomForestRegressor\n",
    "random_forest = RandomForestRegressor(n_estimators=300, random_state=seed)\n",
    "random_forest.fit(X_train, Y_train)\n",
    "pred=random_forest.predict(X_test)\n",
    "print(random_forest.score(X_test,Y_test)*100)\n",
    "print(mean_absolute_error(Y_test, pred))"
   ]
  },
  {
   "cell_type": "code",
   "execution_count": 19,
   "metadata": {},
   "outputs": [
    {
     "name": "stdout",
     "output_type": "stream",
     "text": [
      "82.39515273356788\n",
      "0.9384615384615385\n"
     ]
    }
   ],
   "source": [
    "from sklearn.tree import DecisionTreeRegressor\n",
    "clf = DecisionTreeRegressor(random_state=seed)\n",
    "clf.fit(X_train, Y_train)\n",
    "pred=clf.predict(X_test)\n",
    "print(clf.score(X_test,Y_test)*100)\n",
    "print(mean_absolute_error(Y_test, pred))"
   ]
  },
  {
   "cell_type": "code",
   "execution_count": 20,
   "metadata": {},
   "outputs": [
    {
     "name": "stdout",
     "output_type": "stream",
     "text": [
      "90.97811649078139\n",
      "0.6857373514828898\n"
     ]
    }
   ],
   "source": [
    "from sklearn.linear_model import LinearRegression\n",
    "clf = LinearRegression()\n",
    "clf.fit(X_train, Y_train)\n",
    "pred=clf.predict(X_test)\n",
    "print(clf.score(X_test,Y_test)*100)\n",
    "print(mean_absolute_error(Y_test, pred))"
   ]
  },
  {
   "cell_type": "code",
   "execution_count": 21,
   "metadata": {},
   "outputs": [
    {
     "name": "stdout",
     "output_type": "stream",
     "text": [
      "91.16548298781412\n",
      "0.682962762302918\n"
     ]
    }
   ],
   "source": [
    "from sklearn.neural_network import MLPRegressor\n",
    "clf = MLPRegressor(hidden_layer_sizes=(20,), max_iter=1000, random_state=seed)\n",
    "clf.fit(X_train, Y_train)\n",
    "pred=clf.predict(X_test)\n",
    "print(clf.score(X_test,Y_test)*100)\n",
    "print(mean_absolute_error(Y_test, pred))"
   ]
  },
  {
   "cell_type": "code",
   "execution_count": 22,
   "metadata": {},
   "outputs": [
    {
     "name": "stdout",
     "output_type": "stream",
     "text": [
      "85.4027172069433\n",
      "0.8580844328701303\n"
     ]
    }
   ],
   "source": [
    "from sklearn.ensemble import GradientBoostingRegressor\n",
    "clf = GradientBoostingRegressor(n_estimators=100, learning_rate=1.0,random_state=seed)\n",
    "clf.fit(X_train, Y_train)\n",
    "pred=clf.predict(X_test)\n",
    "print(clf.score(X_test,Y_test)*100)\n",
    "print(mean_absolute_error(Y_test, pred))"
   ]
  },
  {
   "cell_type": "code",
   "execution_count": 23,
   "metadata": {},
   "outputs": [
    {
     "name": "stdout",
     "output_type": "stream",
     "text": [
      "88.58951806556095\n",
      "0.7553846153846155\n"
     ]
    },
    {
     "name": "stderr",
     "output_type": "stream",
     "text": [
      "/home/mvp18/anaconda3/envs/torch/lib/python3.7/site-packages/sklearn/ensemble/forest.py:245: FutureWarning: The default value of n_estimators will change from 10 in version 0.20 to 100 in 0.22.\n",
      "  \"10 in version 0.20 to 100 in 0.22.\", FutureWarning)\n"
     ]
    }
   ],
   "source": [
    "from sklearn.ensemble import ExtraTreesRegressor\n",
    "clf = ExtraTreesRegressor(random_state=seed)\n",
    "clf.fit(X_train, Y_train)\n",
    "pred=clf.predict(X_test)\n",
    "print(clf.score(X_test,Y_test)*100)\n",
    "print(mean_absolute_error(Y_test, pred))"
   ]
  },
  {
   "cell_type": "code",
   "execution_count": 24,
   "metadata": {},
   "outputs": [
    {
     "name": "stdout",
     "output_type": "stream",
     "text": [
      "88.58951806556095\n",
      "0.7553846153846155\n"
     ]
    },
    {
     "name": "stderr",
     "output_type": "stream",
     "text": [
      "/home/mvp18/anaconda3/envs/torch/lib/python3.7/site-packages/sklearn/ensemble/forest.py:245: FutureWarning: The default value of n_estimators will change from 10 in version 0.20 to 100 in 0.22.\n",
      "  \"10 in version 0.20 to 100 in 0.22.\", FutureWarning)\n"
     ]
    }
   ],
   "source": [
    "from sklearn.ensemble import AdaBoostRegressor\n",
    "clf = ExtraTreesRegressor(random_state=seed)\n",
    "clf.fit(X_train, Y_train)\n",
    "pred=clf.predict(X_test)\n",
    "print(clf.score(X_test,Y_test)*100)\n",
    "print(mean_absolute_error(Y_test, pred))"
   ]
  },
  {
   "cell_type": "code",
   "execution_count": null,
   "metadata": {},
   "outputs": [],
   "source": []
  }
 ],
 "metadata": {
  "kernelspec": {
   "display_name": "Python 3",
   "language": "python",
   "name": "python3"
  },
  "language_info": {
   "codemirror_mode": {
    "name": "ipython",
    "version": 3
   },
   "file_extension": ".py",
   "mimetype": "text/x-python",
   "name": "python",
   "nbconvert_exporter": "python",
   "pygments_lexer": "ipython3",
   "version": "3.7.4"
  }
 },
 "nbformat": 4,
 "nbformat_minor": 2
}
