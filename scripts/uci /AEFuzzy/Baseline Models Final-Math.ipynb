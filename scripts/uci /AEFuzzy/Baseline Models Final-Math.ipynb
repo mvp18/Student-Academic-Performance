{
 "cells": [
  {
   "cell_type": "code",
   "execution_count": 1,
   "metadata": {},
   "outputs": [],
   "source": [
    "import numpy as np\n",
    "import pandas as pd\n",
    "from sklearn.model_selection import train_test_split\n",
    "from sklearn.metrics import mean_absolute_error\n",
    "\n",
    "seed = 42\n",
    "np.random.seed(seed)\n",
    "\n",
    "dataset = pd.read_csv('../data/student-mat.csv', sep=';')\n",
    "imp_features = dataset.drop(['school', 'sex', 'reason'], axis=1)\n",
    "\n",
    "address_mapping = {\"U\":0.5, \"R\":1}\n",
    "famsize_mapping = {\"LE3\":0.5,\"GT3\":1}\n",
    "Pstatus_mapping = {\"T\":0.5,\"A\":1}\n",
    "Mjob_mapping = {\"teacher\":0.2,\"health\":0.4,\"services\":0.6,\"at_home\":0.8,\"other\":1.0}\n",
    "Fjob_mapping = {\"teacher\":0.2,\"health\":0.4,\"services\":0.6,\"at_home\":0.8,\"other\":1.0}\n",
    "schoolsup_mapping = {\"yes\":0.5,\"no\":1}\n",
    "famsup_mapping = {\"yes\":0.5,\"no\":1}\n",
    "paid_mapping = {\"yes\":0.5,\"no\":1}\n",
    "activities_mapping = {\"yes\":0.5,\"no\":1}\n",
    "nursery_mapping = {\"yes\":0.5,\"no\":1}\n",
    "higher_mapping = {\"yes\":0.5,\"no\":1}\n",
    "internet_mapping = {\"yes\":0.5,\"no\":1}\n",
    "romantic_mapping = {\"yes\":0.5,\"no\":1}\n",
    "\n",
    "guardian_mapping = {\"mother\":0.33,\"father\":0.66,\"other\":1}\n",
    "numeric_features = imp_features\n",
    "numeric_features['address'] = imp_features['address'].map(address_mapping)\n",
    "numeric_features['famsize'] = imp_features['famsize'].map(famsize_mapping)\n",
    "numeric_features['Pstatus'] = imp_features['Pstatus'].map(Pstatus_mapping)\n",
    "numeric_features['Mjob'] = imp_features['Mjob'].map(Mjob_mapping)\n",
    "numeric_features['Fjob'] = imp_features['Fjob'].map(Fjob_mapping)\n",
    "numeric_features['schoolsup'] = imp_features['schoolsup'].map(schoolsup_mapping)\n",
    "numeric_features['famsup'] = imp_features['famsup'].map(famsup_mapping)\n",
    "numeric_features['paid'] = imp_features['paid'].map(paid_mapping)\n",
    "numeric_features['activities'] = imp_features['activities'].map(activities_mapping)\n",
    "numeric_features['nursery'] = imp_features['nursery'].map(nursery_mapping)\n",
    "numeric_features['higher'] = imp_features['higher'].map(higher_mapping)\n",
    "numeric_features['internet'] = imp_features['internet'].map(internet_mapping)\n",
    "numeric_features['romantic'] = imp_features['romantic'].map(romantic_mapping)\n",
    "numeric_features['guardian'] = imp_features['guardian'].map(guardian_mapping)\n",
    "\n",
    "data_np_array = numeric_features.values\n",
    "\n",
    "X = data_np_array[:, :-1]\n",
    "Y = data_np_array[:,-1]\n",
    "\n",
    "X_trval, X_test, y_trval, Y_test = train_test_split(X, Y, test_size=0.1, random_state=seed)\n",
    "X_train, X_val, Y_train, y_val = train_test_split(X_trval, y_trval, test_size=0.11, random_state=seed)\n",
    "\n",
    "# X_train, X_test, Y_train, Y_test = train_test_split(X, Y, test_size=0.2, random_state=42)"
   ]
  },
  {
   "cell_type": "code",
   "execution_count": 2,
   "metadata": {},
   "outputs": [
    {
     "name": "stdout",
     "output_type": "stream",
     "text": [
      "63.98350784224114\n",
      "2.067496290094174\n"
     ]
    },
    {
     "name": "stderr",
     "output_type": "stream",
     "text": [
      "/home/mvp18/anaconda3/envs/torch/lib/python3.7/site-packages/sklearn/svm/base.py:193: FutureWarning: The default value of gamma will change from 'auto' to 'scale' in version 0.22 to account better for unscaled features. Set gamma explicitly to 'auto' or 'scale' to avoid this warning.\n",
      "  \"avoid this warning.\", FutureWarning)\n"
     ]
    }
   ],
   "source": [
    "#SVR\n",
    "from sklearn import svm\n",
    "clf = svm.SVR()\n",
    "clf.fit(X_train, Y_train)\n",
    "pred=clf.predict(X_test)\n",
    "print(clf.score(X_test,Y_test)*100)\n",
    "print(mean_absolute_error(Y_test, pred))"
   ]
  },
  {
   "cell_type": "markdown",
   "metadata": {},
   "source": [
    "from sklearn import linear_model\n",
    "clf = linear_model.SGDRegressor(max_iter=1000, tol=1e-3)\n",
    "clf.fit(X_train, Y_train)\n",
    "print(clf.score(X_test,Y_test)*100)"
   ]
  },
  {
   "cell_type": "code",
   "execution_count": 3,
   "metadata": {},
   "outputs": [
    {
     "name": "stdout",
     "output_type": "stream",
     "text": [
      "76.53716686492369\n",
      "1.5699999999999998\n"
     ]
    }
   ],
   "source": [
    "from sklearn.neighbors import KNeighborsRegressor\n",
    "clf = KNeighborsRegressor(n_neighbors=5)\n",
    "clf.fit(X_train, Y_train)\n",
    "pred=clf.predict(X_test)\n",
    "print(clf.score(X_test,Y_test)*100)\n",
    "print(mean_absolute_error(Y_test, pred))"
   ]
  },
  {
   "cell_type": "code",
   "execution_count": 4,
   "metadata": {},
   "outputs": [
    {
     "name": "stdout",
     "output_type": "stream",
     "text": [
      "70.96505040146783\n",
      "1.8520809508621003\n",
      "77.9235063267671\n",
      "1.5724027047862326\n",
      "72.2155219089297\n",
      "1.655880460723185\n"
     ]
    }
   ],
   "source": [
    "from sklearn.gaussian_process import GaussianProcessRegressor\n",
    "from sklearn.gaussian_process.kernels import (RBF, Matern, DotProduct, WhiteKernel)\n",
    "\n",
    "\n",
    "kernels = [1.0 * RBF(length_scale=1.0, length_scale_bounds=(1e-1, 10.0)), 1.0 * Matern(length_scale=1.0, length_scale_bounds=(1e-1, 10.0), nu=1.5),\n",
    "DotProduct() + WhiteKernel()]\n",
    "for kernel in kernels:\n",
    "    gpr = GaussianProcessRegressor(kernel=kernel, random_state=seed).fit(X_train, Y_train)\n",
    "    gpr.fit(X_train, Y_train)\n",
    "    pred=gpr.predict(X_test)\n",
    "    print(gpr.score(X_test,Y_test)*100)\n",
    "    print(mean_absolute_error(Y_test, pred))"
   ]
  },
  {
   "cell_type": "code",
   "execution_count": 5,
   "metadata": {},
   "outputs": [
    {
     "name": "stdout",
     "output_type": "stream",
     "text": [
      "77.02792527538041\n",
      "1.3965833333333335\n"
     ]
    }
   ],
   "source": [
    "from sklearn.ensemble import RandomForestRegressor\n",
    "random_forest = RandomForestRegressor(n_estimators=300, random_state=seed)\n",
    "random_forest.fit(X_train, Y_train)\n",
    "pred=random_forest.predict(X_test)\n",
    "print(random_forest.score(X_test,Y_test)*100)\n",
    "print(mean_absolute_error(Y_test, pred))"
   ]
  },
  {
   "cell_type": "code",
   "execution_count": 6,
   "metadata": {},
   "outputs": [
    {
     "name": "stdout",
     "output_type": "stream",
     "text": [
      "60.51732428943839\n",
      "1.7\n"
     ]
    }
   ],
   "source": [
    "from sklearn.tree import DecisionTreeRegressor\n",
    "clf = DecisionTreeRegressor(random_state=seed)\n",
    "clf.fit(X_train, Y_train)\n",
    "pred=clf.predict(X_test)\n",
    "print(clf.score(X_test,Y_test)*100)\n",
    "print(mean_absolute_error(Y_test, pred))"
   ]
  },
  {
   "cell_type": "code",
   "execution_count": 7,
   "metadata": {},
   "outputs": [
    {
     "name": "stdout",
     "output_type": "stream",
     "text": [
      "70.83274667417481\n",
      "1.716704404197035\n"
     ]
    }
   ],
   "source": [
    "from sklearn.linear_model import LinearRegression\n",
    "clf = LinearRegression()\n",
    "clf.fit(X_train, Y_train)\n",
    "pred=clf.predict(X_test)\n",
    "print(clf.score(X_test,Y_test)*100)\n",
    "print(mean_absolute_error(Y_test, pred))"
   ]
  },
  {
   "cell_type": "code",
   "execution_count": 8,
   "metadata": {},
   "outputs": [
    {
     "name": "stdout",
     "output_type": "stream",
     "text": [
      "79.02965053869984\n",
      "1.5098813989350284\n"
     ]
    },
    {
     "name": "stderr",
     "output_type": "stream",
     "text": [
      "/home/mvp18/anaconda3/envs/torch/lib/python3.7/site-packages/sklearn/neural_network/multilayer_perceptron.py:566: ConvergenceWarning: Stochastic Optimizer: Maximum iterations (1000) reached and the optimization hasn't converged yet.\n",
      "  % self.max_iter, ConvergenceWarning)\n"
     ]
    }
   ],
   "source": [
    "from sklearn.neural_network import MLPRegressor\n",
    "clf = MLPRegressor(hidden_layer_sizes=(20,), max_iter=1000, random_state=seed)\n",
    "clf.fit(X_train, Y_train)\n",
    "pred=clf.predict(X_test)\n",
    "print(clf.score(X_test,Y_test)*100)\n",
    "print(mean_absolute_error(Y_test, pred))"
   ]
  },
  {
   "cell_type": "code",
   "execution_count": 9,
   "metadata": {},
   "outputs": [
    {
     "name": "stdout",
     "output_type": "stream",
     "text": [
      "56.34590092288796\n",
      "2.4220228075117367\n"
     ]
    }
   ],
   "source": [
    "from sklearn.ensemble import GradientBoostingRegressor\n",
    "clf = GradientBoostingRegressor(n_estimators=100, learning_rate=1.0,random_state=seed)\n",
    "clf.fit(X_train, Y_train)\n",
    "pred=clf.predict(X_test)\n",
    "print(clf.score(X_test,Y_test)*100)\n",
    "print(mean_absolute_error(Y_test, pred))"
   ]
  },
  {
   "cell_type": "code",
   "execution_count": 10,
   "metadata": {},
   "outputs": [
    {
     "name": "stdout",
     "output_type": "stream",
     "text": [
      "71.79215914555441\n",
      "1.4625\n"
     ]
    },
    {
     "name": "stderr",
     "output_type": "stream",
     "text": [
      "/home/mvp18/anaconda3/envs/torch/lib/python3.7/site-packages/sklearn/ensemble/forest.py:245: FutureWarning: The default value of n_estimators will change from 10 in version 0.20 to 100 in 0.22.\n",
      "  \"10 in version 0.20 to 100 in 0.22.\", FutureWarning)\n"
     ]
    }
   ],
   "source": [
    "from sklearn.ensemble import ExtraTreesRegressor\n",
    "clf = ExtraTreesRegressor(random_state=seed)\n",
    "clf.fit(X_train, Y_train)\n",
    "pred=clf.predict(X_test)\n",
    "print(clf.score(X_test,Y_test)*100)\n",
    "print(mean_absolute_error(Y_test, pred))"
   ]
  },
  {
   "cell_type": "code",
   "execution_count": 11,
   "metadata": {},
   "outputs": [
    {
     "name": "stdout",
     "output_type": "stream",
     "text": [
      "71.79215914555441\n",
      "1.4625\n"
     ]
    },
    {
     "name": "stderr",
     "output_type": "stream",
     "text": [
      "/home/mvp18/anaconda3/envs/torch/lib/python3.7/site-packages/sklearn/ensemble/forest.py:245: FutureWarning: The default value of n_estimators will change from 10 in version 0.20 to 100 in 0.22.\n",
      "  \"10 in version 0.20 to 100 in 0.22.\", FutureWarning)\n"
     ]
    }
   ],
   "source": [
    "from sklearn.ensemble import AdaBoostRegressor\n",
    "clf = ExtraTreesRegressor(random_state=seed)\n",
    "clf.fit(X_train, Y_train)\n",
    "pred=clf.predict(X_test)\n",
    "print(clf.score(X_test,Y_test)*100)\n",
    "print(mean_absolute_error(Y_test, pred))"
   ]
  },
  {
   "cell_type": "code",
   "execution_count": null,
   "metadata": {},
   "outputs": [],
   "source": []
  }
 ],
 "metadata": {
  "kernelspec": {
   "display_name": "Python 3",
   "language": "python",
   "name": "python3"
  },
  "language_info": {
   "codemirror_mode": {
    "name": "ipython",
    "version": 3
   },
   "file_extension": ".py",
   "mimetype": "text/x-python",
   "name": "python",
   "nbconvert_exporter": "python",
   "pygments_lexer": "ipython3",
   "version": "3.7.4"
  }
 },
 "nbformat": 4,
 "nbformat_minor": 2
}
