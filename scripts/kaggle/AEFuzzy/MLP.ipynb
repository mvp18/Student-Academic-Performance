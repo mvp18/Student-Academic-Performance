{
 "cells": [
  {
   "cell_type": "code",
   "execution_count": 1,
   "metadata": {},
   "outputs": [],
   "source": [
    "import numpy as np\n",
    "import pandas as pd\n",
    "from sklearn.model_selection import train_test_split\n",
    "from sklearn.preprocessing import StandardScaler\n",
    "from sklearn.neural_network import MLPClassifier"
   ]
  },
  {
   "cell_type": "code",
   "execution_count": 3,
   "metadata": {},
   "outputs": [],
   "source": [
    "seed = 42\n",
    "np.random.seed(seed)\n",
    "\n",
    "dataset = pd.read_csv('../data/xAPI-Edu-Data.csv')\n",
    "imp_features = dataset.drop(['gender', 'NationalITy', 'Semester', 'PlaceofBirth', 'GradeID', 'Topic', 'SectionID', 'Relation'], axis=1)\n",
    "stage_mapping = {\"lowerlevel\":0, \"MiddleSchool\":1, \"HighSchool\":2}\n",
    "survey_mapping = {\"No\":0, \"Yes\":1}\n",
    "satisfaction_mapping = {\"Bad\":0, \"Good\":1}\n",
    "absence_mapping = {\"Under-7\":0, \"Above-7\":1}\n",
    "class_mapping = {\"L\":0, \"M\":1, \"H\":2}\n",
    "numeric_features = imp_features\n",
    "numeric_features['StageID'] = imp_features['StageID'].map(stage_mapping)\n",
    "numeric_features['ParentAnsweringSurvey'] = imp_features['ParentAnsweringSurvey'].map(survey_mapping)\n",
    "numeric_features['ParentschoolSatisfaction'] = imp_features['ParentschoolSatisfaction'].map(satisfaction_mapping)\n",
    "numeric_features['StudentAbsenceDays'] = imp_features['StudentAbsenceDays'].map(absence_mapping)\n",
    "numeric_features['Class'] = imp_features['Class'].map(class_mapping)\n",
    "\n",
    "data_np_array = numeric_features.values\n",
    "X = data_np_array[:,:-1]\n",
    "Y = data_np_array[:,-1]\n",
    "\n",
    "X_trval, X_test, y_trval, Y_test = train_test_split(X, Y, test_size=0.1, random_state=seed, stratify=Y)\n",
    "X_train, X_val, Y_train, y_val = train_test_split(X_trval, y_trval, test_size=0.11, random_state=seed, stratify=y_trval)\n",
    "\n",
    "# X_train, X_test, Y_train, Y_test = train_test_split(X, Y, test_size=0.2, random_state=42)"
   ]
  },
  {
   "cell_type": "code",
   "execution_count": 4,
   "metadata": {},
   "outputs": [
    {
     "name": "stderr",
     "output_type": "stream",
     "text": [
      "/home/mvp18/anaconda3/envs/torch/lib/python3.7/site-packages/sklearn/neural_network/multilayer_perceptron.py:566: ConvergenceWarning: Stochastic Optimizer: Maximum iterations (200) reached and the optimization hasn't converged yet.\n",
      "  % self.max_iter, ConvergenceWarning)\n"
     ]
    },
    {
     "data": {
      "text/plain": [
       "77.08333333333334"
      ]
     },
     "execution_count": 4,
     "metadata": {},
     "output_type": "execute_result"
    }
   ],
   "source": [
    "scaler = StandardScaler()  \n",
    "scaler.fit(X_train)  \n",
    "X_train = scaler.transform(X_train)  \n",
    "X_test = scaler.transform(X_test)  \n",
    "clf = MLPClassifier(solver='adam', alpha=1e-5)\n",
    "clf.fit(X_train, Y_train)\n",
    "acc_mlp = clf.score(X_test, Y_test)*100\n",
    "acc_mlp"
   ]
  },
  {
   "cell_type": "code",
   "execution_count": null,
   "metadata": {},
   "outputs": [],
   "source": []
  }
 ],
 "metadata": {
  "kernelspec": {
   "display_name": "Python 3",
   "language": "python",
   "name": "python3"
  },
  "language_info": {
   "codemirror_mode": {
    "name": "ipython",
    "version": 3
   },
   "file_extension": ".py",
   "mimetype": "text/x-python",
   "name": "python",
   "nbconvert_exporter": "python",
   "pygments_lexer": "ipython3",
   "version": "3.7.4"
  }
 },
 "nbformat": 4,
 "nbformat_minor": 2
}
